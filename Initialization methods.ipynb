{
 "cells": [
  {
   "cell_type": "markdown",
   "id": "354d28dd",
   "metadata": {},
   "source": [
    "# Initialization"
   ]
  },
  {
   "cell_type": "code",
   "execution_count": null,
   "id": "edade4db",
   "metadata": {},
   "outputs": [],
   "source": [
    "import numpy as np\n",
    "import matplotlib.pyplot as plt\n",
    "import sklearn\n",
    "import sklearn.datasets\n",
    "from init_utils import sigmoid, relu, compute_loss, forward_propagation, backward_propagation\n",
    "from init_utils import update_parameters, predict, load_dataset, plot_decision_boundary, predict_dec\n",
    "train_X, test_X, train_y, test_y = load_dataset()"
   ]
  },
  {
   "cell_type": "markdown",
   "id": "46669ee3",
   "metadata": {},
   "source": [
    "#Three main types of initialisation\n",
    "\n",
    "Zeros initialization -- setting initialization = \"zeros\" in the input argument.\n",
    "Random initialization -- setting initialization = \"random\" in the input argument. This initializes the weights to large random values.\n",
    "He initialization -- setting initialization = \"he\" in the input argument. This initializes the weights to random values scaled according to a paper by He et al., 2015."
   ]
  },
  {
   "cell_type": "code",
   "execution_count": 2,
   "id": "8a144740",
   "metadata": {},
   "outputs": [],
   "source": [
    "def model(X, y, learning_rate=0.01, num_iterations=1500, print_cost=True, initialization='he'):\n",
    "    grads = {}\n",
    "    costs = []\n",
    "    m = X.shape[1]\n",
    "    layer_dims = [X.shape[0], 10, 5, 1]\n",
    "    if initialization =='zero':\n",
    "        parameters = intialize_parameters_zeroes(layer_dims)\n",
    "    elif initialization =='random':\n",
    "        parameters = initialize_parameters_random(layer_dims)\n",
    "    elif initialization =='he':\n",
    "        parameters = initialize_parameters_he(layer_dims)\n",
    "        \n",
    "    for i in range(0, num_iterations):\n",
    "        a3, cache = forward_propagation(X, rameters)\n",
    "        cost = compute_loss(a3, Y)\n",
    "        grads = backward_propagation(X, Y, cache)\n",
    "        parameters = update_parameters(parameters, grads, learning_rate)\n",
    "        if print_cost && i%1000==0:\n",
    "            print(\"Cost after iteration {}: {}\".format(i, cost))\n",
    "            costs.append(cost)\n",
    "    plt.plot(costs)\n",
    "    plt.ylabel('cost')\n",
    "    plt.xlabel('iterations (per hundreds)')\n",
    "    plt.title(\"Learning rate =\" + str(learning_rate))\n",
    "    plt.show()\n",
    "    \n",
    "    return parameters"
   ]
  },
  {
   "cell_type": "markdown",
   "id": "aec78d48",
   "metadata": {},
   "source": [
    "Zero initialization"
   ]
  },
  {
   "cell_type": "code",
   "execution_count": null,
   "id": "d6b23120",
   "metadata": {},
   "outputs": [],
   "source": [
    "def initialize_parameters_zeros(layer_dims):\n",
    "    parameters = {}\n",
    "    L = len(layer_dims)\n",
    "    for l in range(1, L):\n",
    "        parameters['W'+str(l)] = np.zeros(layer_dims[l], layer_dims[l-1])\n",
    "        parameters['b'+str(l)] = np.zeros(layer_dims[l], 1)\n",
    "    return parameters"
   ]
  },
  {
   "cell_type": "markdown",
   "id": "a23c1b16",
   "metadata": {},
   "source": [
    "In general, initializing all the weights to zero results in the network failing to break symmetry. This means that every neuron in each layer will learn the same thing, and you might as well be training a neural network with  for every layer, and the network is no more powerful than a linear classifier such as logistic regression."
   ]
  },
  {
   "cell_type": "markdown",
   "id": "eb0f72c7",
   "metadata": {},
   "source": [
    "Random initialization"
   ]
  },
  {
   "cell_type": "code",
   "execution_count": null,
   "id": "b711f212",
   "metadata": {},
   "outputs": [],
   "source": [
    "def initialize_parameters_random(layer_dims):\n",
    "    \n",
    "    #With high multiples of randomly generated w\n",
    "    \n",
    "    np.random.seed(2)\n",
    "    parameters ={}\n",
    "    L = len(layer_dims)\n",
    "    for l in range(1, L):\n",
    "        parameters['W'+str(l)] = np.random.randn(layer_dims[l], layer_dims[l-1])*10\n",
    "        parameters['b'+str(l)] = np.zeros((layer_dims[l], 1))\n",
    "    return parameters"
   ]
  },
  {
   "cell_type": "markdown",
   "id": "b73d9aae",
   "metadata": {},
   "source": [
    "Observations:\n",
    "\n",
    "The cost starts very high. This is because with large random-valued weights, the last activation (sigmoid) outputs results that are very close to 0 or 1 for some examples, and when it gets that example wrong it incurs a very high loss for that example. Indeed, when , the loss goes to infinity.\n",
    "Poor initialization can lead to vanishing/exploding gradients, which also slows down the optimization algorithm.\n",
    "If you train this network longer you will see better results, but initializing with overly large random numbers slows down the optimization.\n",
    "In summary:\n",
    "\n",
    "Initializing weights to very large random values does not work well.\n",
    "Hopefully intializing with small random values does better."
   ]
  },
  {
   "cell_type": "markdown",
   "id": "5ed93373",
   "metadata": {},
   "source": [
    "'HE' initialisation\n",
    "\"He Initialization\"; this is named for the first author of He et al., 2015. (If you have heard of \"Xavier initialization\", this is similar except Xavier initialization uses a scaling factor for the weights  of sqrt(1./layers_dims[l-1]) where He initialization would use sqrt(2./layers_dims[l-1]).)"
   ]
  },
  {
   "cell_type": "code",
   "execution_count": 1,
   "id": "c47aef6d",
   "metadata": {},
   "outputs": [],
   "source": [
    "def initialize_parameters_he(layer_dims):\n",
    "    parameters = {}\n",
    "    np.random.seed(4)\n",
    "    L = len(layer_dims)\n",
    "    for i in range(1, L):\n",
    "        parameters['W'+str(l)] = np.random.randn(layer_dims[l], layer_dims[l-1])*math.sqrt(2./layer_dims[l-1])\n",
    "        parameters['b'+str(l)] = np.zeros((layer_dims[l], 1))*math.sqrt(2./layers_dims[l-1])\n",
    "    return parameters"
   ]
  },
  {
   "cell_type": "markdown",
   "id": "0ed72233",
   "metadata": {},
   "source": [
    "Different initializations lead to different results\n",
    "Random initialization is used to break symmetry and make sure different hidden units can learn different things\n",
    "Don't intialize to values that are too large\n",
    "He initialization works well for networks with ReLU activations."
   ]
  }
 ],
 "metadata": {
  "kernelspec": {
   "display_name": "Python 3 (ipykernel)",
   "language": "python",
   "name": "python3"
  },
  "language_info": {
   "codemirror_mode": {
    "name": "ipython",
    "version": 3
   },
   "file_extension": ".py",
   "mimetype": "text/x-python",
   "name": "python",
   "nbconvert_exporter": "python",
   "pygments_lexer": "ipython3",
   "version": "3.9.7"
  }
 },
 "nbformat": 4,
 "nbformat_minor": 5
}
